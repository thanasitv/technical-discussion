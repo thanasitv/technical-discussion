{
  "nbformat": 4,
  "nbformat_minor": 0,
  "metadata": {
    "colab": {
      "provenance": [],
      "authorship_tag": "ABX9TyPQ3ud4gtDn97Cb76weMcEQ",
      "include_colab_link": true
    },
    "kernelspec": {
      "name": "python3",
      "display_name": "Python 3"
    },
    "language_info": {
      "name": "python"
    }
  },
  "cells": [
    {
      "cell_type": "markdown",
      "metadata": {
        "id": "view-in-github",
        "colab_type": "text"
      },
      "source": [
        "<a href=\"https://colab.research.google.com/github/thanasitv/technical-discussion/blob/main/techical_docs.ipynb\" target=\"_parent\"><img src=\"https://colab.research.google.com/assets/colab-badge.svg\" alt=\"Open In Colab\"/></a>"
      ]
    },
    {
      "cell_type": "markdown",
      "source": [
        "## Ingest"
      ],
      "metadata": {
        "id": "Xrw4CFDnVZUe"
      }
    },
    {
      "cell_type": "code",
      "execution_count": 2,
      "metadata": {
        "colab": {
          "base_uri": "https://localhost:8080/",
          "height": 36
        },
        "id": "WTLp_CKWQvMp",
        "outputId": "981c468b-f034-47e1-fbdc-d20df28b29f4"
      },
      "outputs": [
        {
          "output_type": "execute_result",
          "data": {
            "text/plain": [
              "'hello'"
            ],
            "application/vnd.google.colaboratory.intrinsic+json": {
              "type": "string"
            }
          },
          "metadata": {},
          "execution_count": 2
        }
      ],
      "source": [
        "def hello():\n",
        "  return \"hello\"\n",
        "\n",
        "hello()"
      ]
    },
    {
      "cell_type": "code",
      "source": [],
      "metadata": {
        "id": "5QEwsNmqQ-sj"
      },
      "execution_count": null,
      "outputs": []
    },
    {
      "cell_type": "markdown",
      "source": [
        "## EDA"
      ],
      "metadata": {
        "id": "1oj-4PqfVn9e"
      }
    },
    {
      "cell_type": "code",
      "source": [],
      "metadata": {
        "id": "hsBYNf2vVpWW"
      },
      "execution_count": null,
      "outputs": []
    },
    {
      "cell_type": "markdown",
      "source": [
        "### This is the mark down heading\n",
        "\n",
        "* One\n",
        "* Two"
      ],
      "metadata": {
        "id": "AFc8-NdAWFk-"
      }
    },
    {
      "cell_type": "markdown",
      "source": [
        "## Modeling"
      ],
      "metadata": {
        "id": "4ZgwkRbJVub0"
      }
    },
    {
      "cell_type": "code",
      "source": [],
      "metadata": {
        "id": "joiTqxyVVvhv"
      },
      "execution_count": null,
      "outputs": []
    },
    {
      "cell_type": "markdown",
      "source": [
        "## Conclusion"
      ],
      "metadata": {
        "id": "DovvoyqMVwGU"
      }
    },
    {
      "cell_type": "code",
      "source": [],
      "metadata": {
        "id": "NrxIA7oDVxuM"
      },
      "execution_count": 1,
      "outputs": []
    }
  ]
}